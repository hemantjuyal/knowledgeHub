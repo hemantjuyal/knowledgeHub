{
 "cells": [
  {
   "cell_type": "markdown",
   "metadata": {},
   "source": [
    "# FAISS Chunk Inspector Notebook\n",
    "This notebook allows you to load your FAISS vector store and inspect the individual text chunks,\n",
    "their internal IDs, and associated metadata (like page numbers and source files)."
   ]
  },
  {
   "cell_type": "code",
   "execution_count": 1,
   "metadata": {},
   "outputs": [],
   "source": [
    "#Code Block 1\n",
    "\n",
    "import os\n",
    "import numpy as np\n",
    "import matplotlib.pyplot as plt\n",
    "from sklearn.manifold import TSNE\n",
    "from dotenv import load_dotenv # Import load_dotenv\n",
    "\n",
    "# Load environment variables from .env file\n",
    "load_dotenv()\n",
    "\n",
    "# Add the project root to the Python path to allow importing src modules\n",
    "project_root = os.path.abspath(os.path.join(os.getcwd(), '..'))\n",
    "if project_root not in os.sys.path:\n",
    "    os.sys.path.insert(0, project_root)\n",
    "\n",
    "from src.vector_stores.faiss_store import get_vector_store"
   ]
  },
  {
   "cell_type": "markdown",
   "metadata": {},
   "source": [
    "## Setup\n",
    "\n",
    "First, ensure you have all the necessary dependencies installed. If you haven't already, run the\n",
    "following command in your project's root directory:\n",
    "\n",
    "pip install -r requirements.txt\n",
    "\n",
    "Also, make sure you have built your FAISS index by running `python ingest.py` at least once."
   ]
  },
  {
   "cell_type": "code",
   "execution_count": null,
   "metadata": {},
   "outputs": [],
   "source": [
    "#Code Block 2\n",
    "\n",
    "vector_store = get_vector_store(version=\"school\")\n",
    "\n",
    "if vector_store is None:\n",
    "    print(\"FAISS index not found or empty. Please run 'python ingest.py' first and ensure documents are present.\")\n",
    "else:\n",
    "    print(\"FAISS vector store loaded successfully.\")"
   ]
  },
  {
   "cell_type": "markdown",
   "metadata": {},
   "source": [
    "## Inspect Text Chunks and Metadata\n",
    "\n",
    "This cell will iterate through the chunks stored in your FAISS index and display their content, internal ID, source file, and page number."
   ]
  },
  {
   "cell_type": "code",
   "execution_count": null,
   "metadata": {},
   "outputs": [],
   "source": [
    "#Code Block 3\n",
    "\n",
    "if vector_store:\n",
    "    print(\"Inspecting document chunks and metadata:\")\n",
    "\n",
    "    # Get all document IDs from the index\n",
    "    all_doc_ids = list(vector_store.docstore._dict.keys())\n",
    "\n",
    "    if not all_doc_ids:\n",
    "        print(\"No documents found in the vector store's docstore.\")\n",
    "    else:\n",
    "        # Iterate through the docstore to get the full Document objects\n",
    "        for i, doc_id in enumerate(all_doc_ids):\n",
    "            doc_obj = vector_store.docstore.search(doc_id)\n",
    "            if doc_obj:\n",
    "                print(f\"\\n--- Chunk {i+1} (ID: {doc_id}) ---\")\n",
    "                print(f\"Source: {doc_obj.metadata.get('source', 'N/A')}\")\n",
    "                print(f\"Page: {doc_obj.metadata.get('page', 'N/A')}\")\n",
    "                print(\"Content (first 500 chars):\")\n",
    "                print(doc_obj.page_content[:500] + \"...\")\n",
    "                print(\"-\" * 40)\n",
    "\n",
    "            if i >= 19:  # Limit output to first 20 chunks to avoid overwhelming the display\n",
    "                print(\"\\n... (Displaying details for the first 20 chunks. Modify this cell to see more.)\")\n",
    "                break\n",
    "else:\n",
    "    print(\"Vector store not loaded. Cannot inspect chunks.\")"
   ]
  }
 ],
 "metadata": {
  "kernelspec": {
   "display_name": "knowledgeHub",
   "language": "python",
   "name": "python3"
  },
  "language_info": {
   "codemirror_mode": {
    "name": "ipython",
    "version": 3
   },
   "file_extension": ".py",
   "mimetype": "text/x-python",
   "name": "python",
   "nbconvert_exporter": "python",
   "pygments_lexer": "ipython3",
   "version": "3.13.5"
  }
 },
 "nbformat": 4,
 "nbformat_minor": 4
}
